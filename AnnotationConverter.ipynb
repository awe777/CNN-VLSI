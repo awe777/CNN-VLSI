{
 "cells": [
  {
   "cell_type": "code",
   "execution_count": 1,
   "metadata": {},
   "outputs": [],
   "source": [
    "with open(\"./train.txt\", \"rt\") as trainList:\n",
    "    lineList = trainList.readlines()\n",
    "    \n",
    "lineList_train = sorted(lineList, key=lambda x: x.split()[0])\n",
    "\n",
    "with open(\"./train.txt\", \"wt\") as trainWriteList:\n",
    "    for eachLine in lineList_train:\n",
    "        trainWriteList.write(eachLine)\n",
    "\n",
    "with open(\"./val.txt\", \"rt\") as trainList:\n",
    "    lineList = trainList.readlines()\n",
    "    \n",
    "lineList_val = sorted(lineList, key=lambda x: x.split()[0])\n",
    "\n",
    "with open(\"./val.txt\", \"wt\") as trainWriteList:\n",
    "    for eachLine in lineList_val:\n",
    "        trainWriteList.write(eachLine)"
   ]
  },
  {
   "cell_type": "code",
   "execution_count": 2,
   "metadata": {},
   "outputs": [
    {
     "name": "stdout",
     "output_type": "stream",
     "text": [
      "Done writing files\n"
     ]
    }
   ],
   "source": [
    "import json\n",
    "\n",
    "lineList_train = list(map(lambda x: x.split(), lineList_train))\n",
    "lineList_val = list(map(lambda x: x.split(), lineList_val))\n",
    "outputBuffer = []\n",
    "# '''\n",
    "for eachLine in lineList_train:\n",
    "    filePath = eachLine[0]\n",
    "    bboxList = []\n",
    "    probList = []\n",
    "    classList = []\n",
    "    for i in range(1, len(eachLine)):\n",
    "        inferenceDetect = eachLine[i].split(\",\")\n",
    "        # reference: https://github.com/awe777/keras-yolo3/blob/master/coco_annotation.py#L49\n",
    "        # reference: https://github.com/awe777/keras-yolo3/blob/master/yolo.py#L146 \n",
    "        bboxList.append([float(inferenceDetect[3]),float(inferenceDetect[0]),float(inferenceDetect[1]),float(inferenceDetect[2])])\n",
    "        probList.append(1.0)\n",
    "        classList.append(int(inferenceDetect[4]))\n",
    "    outputBuffer.append(json.dumps([filePath, [bboxList, probList, classList]]))\n",
    "# '''\n",
    "'''\n",
    "for eachLine in lineList_val:\n",
    "    filePath = eachLine[0]\n",
    "    bboxList = []\n",
    "    probList = []\n",
    "    classList = []\n",
    "    for i in range(1, len(eachLine)):\n",
    "        inferenceDetect = eachLine[i].split(\",\")\n",
    "        # reference: https://github.com/awe777/keras-yolo3/blob/master/coco_annotation.py#L49\n",
    "        # reference: https://github.com/awe777/keras-yolo3/blob/master/yolo.py#L146 \n",
    "        bboxList.append([float(inferenceDetect[3]),float(inferenceDetect[0]),float(inferenceDetect[1]),float(inferenceDetect[2])])\n",
    "        probList.append(1.0)\n",
    "        classList.append(int(inferenceDetect[4]))\n",
    "    outputBuffer.append(json.dumps([filePath, [bboxList, probList, classList]]))\n",
    "# '''\n",
    "with open(\"./inference_annotation.txt\", \"wt\") as outputFile:\n",
    "    for lines in outputBuffer:\n",
    "        outputFile.write(lines + \"\\n\")\n",
    "print(\"Done writing files\")"
   ]
  },
  {
   "cell_type": "code",
   "execution_count": null,
   "metadata": {},
   "outputs": [],
   "source": []
  }
 ],
 "metadata": {
  "kernelspec": {
   "display_name": "Python 3.7.6 64-bit",
   "language": "python",
   "name": "python37664bit2209d341433e46b694c7a9ae91caa091"
  },
  "language_info": {
   "codemirror_mode": {
    "name": "ipython",
    "version": 3
   },
   "file_extension": ".py",
   "mimetype": "text/x-python",
   "name": "python",
   "nbconvert_exporter": "python",
   "pygments_lexer": "ipython3",
   "version": "3.7.6"
  }
 },
 "nbformat": 4,
 "nbformat_minor": 4
}
