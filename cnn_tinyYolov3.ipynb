{
 "cells": [
  {
   "cell_type": "code",
   "execution_count": 1,
   "metadata": {},
   "outputs": [
    {
     "name": "stdout",
     "output_type": "stream",
     "text": [
      "Running Tensorflow version 2.1.0\n"
     ]
    },
    {
     "name": "stderr",
     "output_type": "stream",
     "text": [
      "Using TensorFlow backend.\n"
     ]
    }
   ],
   "source": [
    "import tensorflow as tf\n",
    "import numpy as np\n",
    "import matplotlib.pyplot as plt\n",
    "from matplotlib.image import imread\n",
    "import math\n",
    "import tensorflow.python.keras as keras\n",
    "from keras.layers import Input, Layer, LeakyReLU, BatchNormalization, Conv2D, MaxPooling2D, UpSampling2D, Concatenate\n",
    "from keras.models import Model\n",
    "import keras.backend as K\n",
    "import os\n",
    "print(\"Running Tensorflow version\", tf.__version__)"
   ]
  },
  {
   "cell_type": "code",
   "execution_count": 2,
   "metadata": {},
   "outputs": [
    {
     "name": "stdout",
     "output_type": "stream",
     "text": [
      "Custom layer classes successfully defined\n"
     ]
    }
   ],
   "source": [
    "class Round(Layer):\n",
    "    def __init__(self, **kwargs):\n",
    "        super(Round, self).__init__(**kwargs)\n",
    "    def get_output(self, train=False):\n",
    "        X = self.get_input(train)\n",
    "        return K.round(X * 4096) / 4096.0\n",
    "    def get_config(self):\n",
    "        config = {\"name\": self.__class__.__name__}\n",
    "        base_config = super(Round, self).get_config()\n",
    "        return dict(list(base_config.items()) + list(config.items()))\n",
    "class Integer(Layer):\n",
    "    def __init__(self, **kwargs):\n",
    "        super(Integer, self).__init__(**kwargs)\n",
    "    def get_output(self, train=False):\n",
    "        X = self.get_input(train)\n",
    "        return X / 4096.0\n",
    "    def get_config(self):\n",
    "        config = {\"name\": self.__class__.__name__}\n",
    "        base_config = super(Integer, self).get_config()\n",
    "        return dict(list(base_config.items()) + list(config.items()))\n",
    "def DBL(previousLayer, layerFilter, kernelSize=(3, 3)):\n",
    "    return LeakyReLU()(BatchNormalization()(Conv2D(filters=layerFilter, kernel_size=kernelSize, padding='same')(previousLayer)))\n",
    "print(\"Custom layer classes successfully defined\")"
   ]
  },
  {
   "cell_type": "code",
   "execution_count": 3,
   "metadata": {},
   "outputs": [
    {
     "name": "stdout",
     "output_type": "stream",
     "text": [
      "Number of class classification is 4\n"
     ]
    }
   ],
   "source": [
    "classificationClass = 4\n",
    "print(\"Number of class classification is\", classificationClass)"
   ]
  },
  {
   "cell_type": "code",
   "execution_count": 4,
   "metadata": {},
   "outputs": [
    {
     "name": "stdout",
     "output_type": "stream",
     "text": [
      "Model model_0 compilation complete\n"
     ]
    }
   ],
   "source": [
    "model_0_input = Input(shape=(448, 448, 3))\n",
    "# 448 x 448 x 3\n",
    "model_0_startBranch = DBL(previousLayer=model_0_input, layerFilter=16) \n",
    "# 448 x 448 x 16\n",
    "model_0_startBranch = MaxPooling2D(pool_size=(2, 2))(model_0_startBranch)\n",
    "# 224 x 224 x 16\n",
    "model_0_startBranch = DBL(previousLayer=model_0_startBranch, layerFilter=32)\n",
    "# 224 x 224 x 32\n",
    "model_0_startBranch = MaxPooling2D(pool_size=(2, 2))(model_0_startBranch)\n",
    "# 112 x 112 x 32\n",
    "model_0_startBranch = DBL(previousLayer=model_0_startBranch, layerFilter=64)\n",
    "# 112 x 112 x 64\n",
    "model_0_startBranch = MaxPooling2D(pool_size=(2, 2))(model_0_startBranch)\n",
    "# 56 x 56 x 64\n",
    "model_0_startBranch = DBL(previousLayer=model_0_startBranch, layerFilter=128)\n",
    "# 56 x 56 x 128\n",
    "model_0_startBranch = MaxPooling2D(pool_size=(2, 2))(model_0_startBranch)\n",
    "# 28 x 28 x 128\n",
    "model_0_startBranch = DBL(previousLayer=model_0_startBranch, layerFilter=256)\n",
    "# 28 x 28 x 256\n",
    "# 2 branch split from startBranch (28 x 28 x 256), following model_0_branch0\n",
    "model_0_branch0 = MaxPooling2D(pool_size=(2, 2))(model_0_startBranch)\n",
    "# 14 x 14 x 256\n",
    "model_0_branch0 = DBL(previousLayer=model_0_branch0, layerFilter=512)\n",
    "# 14 x 14 x 512\n",
    "model_0_branch0 = MaxPooling2D(pool_size=(2, 2), strides=1, padding='same')(model_0_branch0)\n",
    "# 14 x 14 x 512\n",
    "model_0_branch0 = DBL(previousLayer=model_0_branch0, layerFilter=1024)\n",
    "# 14 x 14 x 1024\n",
    "model_0_branch0 = DBL(previousLayer=model_0_branch0, layerFilter=256, kernelSize=(1, 1))\n",
    "# 14 x 14 x 256\n",
    "# 2 branch split from model_0_branch0 (14 x 14 x 256), following model_0_branch00\n",
    "model_0_branch00 = DBL(previousLayer=model_0_branch0, layerFilter=128, kernelSize=(1, 1))\n",
    "# 14 x 14 x 128\n",
    "model_0_branch00 = UpSampling2D()(model_0_branch00)\n",
    "# 28 x 28 x 128\n",
    "# 2 branch merge from model_0_branch1 (unchanged from model_0_startBranch) and model_0_branch00\n",
    "model_0_mergedBranch = Concatenate()([model_0_startBranch, model_0_branch00])\n",
    "# 28 x 28 x 384\n",
    "model_0_mergedBranch = DBL(previousLayer=model_0_mergedBranch, layerFilter=256)\n",
    "# 28 x 28 x 256\n",
    "model_0_mergedBranch = DBL(previousLayer=model_0_mergedBranch, layerFilter=3 * (4 + 1 + classificationClass))\n",
    "# 28 x 28 x (3 * (5 + classificationClass))\n",
    "# OUTPUT = model_0_mergedBranch (note: 26 x 26 grid untuk deteksi objek kecil)\n",
    "\n",
    "# following model_0_branch01\n",
    "model_0_branch01 = DBL(previousLayer=model_0_branch0, layerFilter=512)\n",
    "# 14 x 14 x 512\n",
    "model_0_branch01 = DBL(previousLayer=model_0_branch01, layerFilter=3 * (4 + 1 + classificationClass))\n",
    "# 14 x 14 x (3 * (5 + classificationClass))\n",
    "# OUTPUT = model_0_branch01 (note: 13 x 13 grid untuk deteksi objek besar)\n",
    "\n",
    "model_0 = Model(inputs=model_0_input, outputs=[model_0_mergedBranch, model_0_branch01])\n",
    "model_0.compile(optimizer='rmsprop', loss='binary_crossentropy', loss_weights=[1., 0.2])\n",
    "print(\"Model model_0 compilation complete\")"
   ]
  },
  {
   "cell_type": "code",
   "execution_count": null,
   "metadata": {},
   "outputs": [],
   "source": []
  }
 ],
 "metadata": {
  "kernelspec": {
   "display_name": "Python 3",
   "language": "python",
   "name": "python3"
  },
  "language_info": {
   "codemirror_mode": {
    "name": "ipython",
    "version": 3
   },
   "file_extension": ".py",
   "mimetype": "text/x-python",
   "name": "python",
   "nbconvert_exporter": "python",
   "pygments_lexer": "ipython3",
   "version": "3.7.6"
  }
 },
 "nbformat": 4,
 "nbformat_minor": 4
}
